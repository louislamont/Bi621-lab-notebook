{
 "cells": [
  {
   "cell_type": "markdown",
   "metadata": {},
   "source": [
    "# Lab Notebook for Matthew Wright"
   ]
  },
  {
   "cell_type": "markdown",
   "metadata": {},
   "source": [
    "# Write some Python\n",
    "1. Open ```batch_2.fst_1-2.tsv``` from your fst directory.\n",
    "2. Read each line and remove the newlines.\n",
    "3. Split each line by tabs and save the resulting elements in an array.\n",
    "4. Sum the F<sub>ST</sub> values from the file and calculate the average F<sub>ST</sub> and print it out\n",
    "6. Print a unique list of chromosomes contained in the file."
   ]
  },
  {
   "cell_type": "code",
   "execution_count": 49,
   "metadata": {},
   "outputs": [
    {
     "name": "stdout",
     "output_type": "stream",
     "text": [
      "Avg Fst: -0.0006395945316634855\n",
      "['groupI', 'groupII', 'groupIII', 'groupIV', 'groupIX', 'groupV', 'groupVI', 'groupVII', 'groupVIII', 'groupX', 'groupXI', 'groupXII', 'groupXIII', 'groupXIV', 'groupXIX', 'groupXV', 'groupXVI', 'groupXVII', 'groupXVIII', 'groupXX', 'groupXXI']\n"
     ]
    }
   ],
   "source": [
    "with open(\"../2017-ica6-louislamont/fst/batch_2.fst_1-2.tsv\", \"r\") as fh:\n",
    "    i=0\n",
    "    fst=0\n",
    "    chroms=[]\n",
    "    next(fh)\n",
    "    for line in fh:\n",
    "        larray=line.strip(\"\\n\").split(\"\\t\")\n",
    "        fst+=float(larray[8])\n",
    "        i+=1\n",
    "        if \"group\" in larray[4]:\n",
    "            try:\n",
    "                chroms.index(larray[4])\n",
    "            except ValueError:\n",
    "                chroms.append(larray[4])\n",
    "    \n",
    "print(\"Avg Fst:\", (fst/(i)))\n",
    "print(chroms)"
   ]
  },
  {
   "cell_type": "markdown",
   "metadata": {},
   "source": [
    "# 7/6/2017\n",
    "# Blast\n",
    "\n",
    "5 types:\n",
    "BLASTn - nucleotide vs nucleotide search\n",
    "BLASTt - protein v protein search\n",
    "BLASTx - protein database v translated nucleotide query\n",
    "tBLASTn - translated nucleotide database v protein query\n",
    "tBLASTx - translated nucleotide database v translated nucleotide database\n",
    "\n",
    "4 steps:\n",
    "1. Seeding:\n",
    "    1. Break query into k-mers (11 for nucleotides, 3 for amino acids)\n",
    "    2. Has a threshold T that allows for mismatches between query and database\n",
    "    3. BLAST scans the database for occurences of k-mers derived from the query sequence\n",
    "    4. Requires two word matches for amino acids, one word is sufficient for nucleotides\n",
    "2. Non-gapped extension:\n",
    "    1. Uses a score threshold to stop extensions (\"Drop-off score\")\n",
    "    2. Tracks score alignment since last maximum\n",
    "3. Gapped extension\n",
    "    1. Smith-Waterman alignment, dynamic programming\n",
    "4. Evaluation\n",
    "    1. Score is a combination of matches, mismatch penalties, gap opening penalties, and gap extension penalties\n",
    "    2. HSPs - High-scoring pairs. HSPs are clustered if they are consistent\n",
    "    3. E-value: the number of alignments expected by chance during a sequence database search\n",
    "        $$E=kmne^{-\\lambda S}$$\n",
    "        m: length of query;\n",
    "        n: length of database;\n",
    "        k: constant;\n",
    "        $\\lambda S$: normalized score\n",
    "    4. a function of the search space (m * n), the normalized score, and a constant k"
   ]
  },
  {
   "cell_type": "markdown",
   "metadata": {},
   "source": [
    "# BLAT - The BLAST-Like Alignment Tool\n",
    "\n",
    "* Created by James Kent in order to assist annotating and assembling the human genome as it was being sequenced.\n",
    "* To assess human genome quality, Kent was repeatedly aligning human and mouse ESTs (gene transcripts) to the growing genome\n",
    "\n",
    "\n",
    "## Basic Algorithm\n",
    "1. Index the database using all non-overlapping k-mers with their positions\n",
    "2. Look up every k-mer in the query in the database\n",
    "    * How would you allow mismatches in query k-mers? Trick question: shrink k-mers so there are no mismatches\n",
    "3. nucleotide BLAT requires two perfect matching 11-mers\n",
    "4. Nearby 11-mers are clumped if they fall consistently on the diagonal\n",
    "5. k-mers are extended one letter at a time as long as perfect matches occur, k-mers are merged together\n",
    "6. Smaller k-mers are generated from gapped areass and the extension occurs recursively\n",
    "7. Finally, special rules are applied to fill in the gapped areas"
   ]
  },
  {
   "cell_type": "markdown",
   "metadata": {},
   "source": [
    "# BLAT vs. BLAST\n",
    "* BLAST is most useful in searching for distantly related homologs\n",
    "    * BLAST is optimized for gene-size lengths of sequence\n",
    "* BLAT is more useful for finding matches between much more closely related sequence, particularly nucleotides\n",
    "    * BLAT is particuarly useful for transcriptome alignments (mRNA) and nucleotide contigs from genome assemblies\n",
    "* BLAT used to have a large performance advantage over BLAST, but not as important now"
   ]
  },
  {
   "cell_type": "markdown",
   "metadata": {},
   "source": [
    "# K-mers\n",
    "\n",
    "k-mers in a sequence: $seqlen - k+1$\n",
    "\n",
    "* A k-mer represnts a unique sequence of the genome\n",
    "* k-mers occur in proportion to sequencing depth\n",
    "* sequencing error is a major source of rare k-mers\n",
    "\n",
    "* The concept of trusted and untrusted k-mers\n",
    "    * sequencing errors introduce rare k-mers, you can correct untrusted k-mers if there are high coverage k-mers at that spot\n",
    "    \n",
    "### Digital Normalization\n",
    "\n",
    "1. Tally the occurence of each k-mer in the read.\n",
    "2. Look up the number of occurences of each k-mer\n",
    "3. Calculate the median k-mer coverage for the read\n",
    "4. Drop the read if the coverage > threshold"
   ]
  }
 ],
 "metadata": {
  "kernelspec": {
   "display_name": "Python 3",
   "language": "python",
   "name": "python3"
  },
  "language_info": {
   "codemirror_mode": {
    "name": "ipython",
    "version": 3
   },
   "file_extension": ".py",
   "mimetype": "text/x-python",
   "name": "python",
   "nbconvert_exporter": "python",
   "pygments_lexer": "ipython3",
   "version": "3.6.1"
  }
 },
 "nbformat": 4,
 "nbformat_minor": 2
}
